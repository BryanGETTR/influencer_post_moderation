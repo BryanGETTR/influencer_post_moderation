{
 "cells": [
  {
   "cell_type": "code",
   "execution_count": 92,
   "id": "3d615855-793f-4e52-89d5-b53b6a49a931",
   "metadata": {},
   "outputs": [],
   "source": [
    "import requests\n",
    "import time"
   ]
  },
  {
   "cell_type": "code",
   "execution_count": 93,
   "id": "6c77aff5-525b-4066-9fe7-445f3f4b0677",
   "metadata": {},
   "outputs": [],
   "source": [
    "USERS = [\"miles\"]"
   ]
  },
  {
   "cell_type": "code",
   "execution_count": 94,
   "id": "48acafba-0153-453e-8b5d-134e3e149c5f",
   "metadata": {},
   "outputs": [],
   "source": [
    "def cur_ms_time():\n",
    "    return round(time.time() * 1000)"
   ]
  },
  {
   "cell_type": "markdown",
   "id": "6144b495-c632-4fff-a1f5-0942b165e9e4",
   "metadata": {},
   "source": [
    "## Classify post - by time range"
   ]
  },
  {
   "cell_type": "code",
   "execution_count": 101,
   "id": "721f71a5-a466-47b5-bb47-88d531cf1078",
   "metadata": {},
   "outputs": [],
   "source": [
    "def iter_user_post(user_id, time_range):\n",
    "    \"\"\"\n",
    "    user_id: influencer's id\n",
    "    time_range: time window, in hours\n",
    "    \n",
    "    return: a list of valid post id\n",
    "    \"\"\"\n",
    "    min_time = cur_ms_time() - time_range*3600*1000\n",
    "    URL = \"https://api.gettr.com/u/user/{}/posts?offset=0&max=20&dir=fwd&incl=posts%7Cstats%7Cuserinfo%7Cshared%7Cliked&fp=f_uo\".format(user_id)\n",
    "    \n",
    "    posts = requests.get(URL).json()[\"result\"][\"data\"][\"list\"]\n",
    "\n",
    "    cand_postid_ls = [] #postID in this class\n",
    "\n",
    "    for post in posts:\n",
    "        if post[\"cdate\"] > min_time:\n",
    "            cand_postid_ls.append(post[\"activity\"][\"pstid\"])\n",
    "            \n",
    "    return cand_postid_ls"
   ]
  },
  {
   "cell_type": "markdown",
   "id": "e248d86e-b033-4b4c-8a64-a4153ab517c4",
   "metadata": {},
   "source": [
    "## Iterate commons"
   ]
  },
  {
   "cell_type": "code",
   "execution_count": 105,
   "id": "43e42218-012c-4019-8ab5-d0c9863cd7a7",
   "metadata": {},
   "outputs": [],
   "source": [
    "def iter_post_comments(post_id, time_range): \n",
    "    \"\"\"\n",
    "    post_id: \n",
    "    time_range: time window, in mins\n",
    "    \n",
    "    return: a list of valid comment id\n",
    "    \"\"\"\n",
    "    min_time = cur_ms_time() - time_range*60*1000 # to ms\n",
    "    URL = \"https://api.gettr.com/u/post/{}/comments?offset=0&max=20&dir=rev&incl=posts%7Cstats%7Cuserinfo%7Cshared%7Cliked\".format(post_id)\n",
    "    \n",
    "    comments = requests.get(URL).json()[\"result\"][\"data\"][\"list\"] # comments\n",
    "    \n",
    "    cand_com_list = [] # comments that within the time windows\n",
    "\n",
    "    for comment in comments:\n",
    "        if comment[\"cdate\"] > min_time:\n",
    "            cand_com_list.append(comment[\"_id\"])\n",
    "            \n",
    "    return cand_com_list"
   ]
  },
  {
   "cell_type": "markdown",
   "id": "0201d363-9f98-4edf-bcfd-c435b6b3c18f",
   "metadata": {},
   "source": [
    "## Send to discord"
   ]
  },
  {
   "cell_type": "code",
   "execution_count": 97,
   "id": "85d65b56-2435-426d-b05b-d521ad4776fd",
   "metadata": {},
   "outputs": [],
   "source": [
    "def send_comments_to_discord(cand_com_list):\n",
    "    # Pseudocode\n",
    "    # Print the selected comment\n",
    "    for com_id in cand_com_list:\n",
    "        print(\"https://gettr.com/comment/\" + com_id)"
   ]
  },
  {
   "cell_type": "code",
   "execution_count": 107,
   "id": "aeea446c-8687-4741-8f80-63a5aaf22f3c",
   "metadata": {},
   "outputs": [
    {
     "name": "stdout",
     "output_type": "stream",
     "text": [
      "https://gettr.com/comment/c4t13i\n",
      "https://gettr.com/comment/c4sl7t\n",
      "https://gettr.com/comment/c4rso6\n",
      "https://gettr.com/comment/c4t3sq\n",
      "https://gettr.com/comment/c4r1x3\n",
      "https://gettr.com/comment/c4rc64\n",
      "https://gettr.com/comment/c4qvft\n",
      "https://gettr.com/comment/c4rmqq\n",
      "https://gettr.com/comment/c4rmno\n",
      "https://gettr.com/comment/c4r400\n"
     ]
    }
   ],
   "source": [
    "## Main\n",
    "for user in USERS:\n",
    "    post_list = iter_user_post(user, 6) #6hours\n",
    "    for post in post_list:\n",
    "        comms_list = iter_post_comments(post, 20) #10 mins\n",
    "        send_comments_to_discord(comms_list)"
   ]
  },
  {
   "cell_type": "code",
   "execution_count": null,
   "id": "81104b4e-d7bb-469d-ae90-96659e111a26",
   "metadata": {},
   "outputs": [],
   "source": []
  }
 ],
 "metadata": {
  "kernelspec": {
   "display_name": "Python 3",
   "language": "python",
   "name": "python3"
  },
  "language_info": {
   "codemirror_mode": {
    "name": "ipython",
    "version": 3
   },
   "file_extension": ".py",
   "mimetype": "text/x-python",
   "name": "python",
   "nbconvert_exporter": "python",
   "pygments_lexer": "ipython3",
   "version": "3.8.2"
  }
 },
 "nbformat": 4,
 "nbformat_minor": 5
}
